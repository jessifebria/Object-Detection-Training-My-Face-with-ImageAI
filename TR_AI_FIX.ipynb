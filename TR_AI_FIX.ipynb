{
  "nbformat": 4,
  "nbformat_minor": 0,
  "metadata": {
    "colab": {
      "name": "TR-AI-FIX.ipynb",
      "provenance": [],
      "collapsed_sections": [],
      "mount_file_id": "1wr37m4GJY7AvLQiQFRr5uH6b9sCGlhE9",
      "authorship_tag": "ABX9TyPWgjKT1PuTtZNXIJBWDj0R",
      "include_colab_link": true
    },
    "kernelspec": {
      "name": "python3",
      "display_name": "Python 3"
    },
    "accelerator": "GPU"
  },
  "cells": [
    {
      "cell_type": "markdown",
      "metadata": {
        "id": "view-in-github",
        "colab_type": "text"
      },
      "source": [
        "<a href=\"https://colab.research.google.com/github/jessifebria/Object-Detection-Training-My-Face-with-ImageAI/blob/main/TR_AI_FIX.ipynb\" target=\"_parent\"><img src=\"https://colab.research.google.com/assets/colab-badge.svg\" alt=\"Open In Colab\"/></a>"
      ]
    },
    {
      "cell_type": "code",
      "metadata": {
        "id": "jGqhPA41JgcX",
        "colab": {
          "base_uri": "https://localhost:8080/",
          "height": 35
        },
        "outputId": "ad35fd83-d300-42b2-b566-2cd529e78020"
      },
      "source": [
        "%tensorflow_version 1.x"
      ],
      "execution_count": null,
      "outputs": [
        {
          "output_type": "stream",
          "text": [
            "TensorFlow 1.x selected.\n"
          ],
          "name": "stdout"
        }
      ]
    },
    {
      "cell_type": "code",
      "metadata": {
        "id": "GoFUgSt--aaU",
        "colab": {
          "base_uri": "https://localhost:8080/",
          "height": 679
        },
        "outputId": "53bc4031-5370-4d0c-fa3e-90755a58a910"
      },
      "source": [
        "!pip3 install tensorflow-gpu==1.13.1"
      ],
      "execution_count": null,
      "outputs": [
        {
          "output_type": "stream",
          "text": [
            "Collecting tensorflow-gpu==1.13.1\n",
            "\u001b[?25l  Downloading https://files.pythonhosted.org/packages/7b/b1/0ad4ae02e17ddd62109cd54c291e311c4b5fd09b4d0678d3d6ce4159b0f0/tensorflow_gpu-1.13.1-cp36-cp36m-manylinux1_x86_64.whl (345.2MB)\n",
            "\u001b[K     |████████████████████████████████| 345.2MB 49kB/s \n",
            "\u001b[?25hRequirement already satisfied: wheel>=0.26 in /usr/local/lib/python3.6/dist-packages (from tensorflow-gpu==1.13.1) (0.34.2)\n",
            "Requirement already satisfied: absl-py>=0.1.6 in /usr/local/lib/python3.6/dist-packages (from tensorflow-gpu==1.13.1) (0.9.0)\n",
            "Requirement already satisfied: termcolor>=1.1.0 in /usr/local/lib/python3.6/dist-packages (from tensorflow-gpu==1.13.1) (1.1.0)\n",
            "Requirement already satisfied: keras-preprocessing>=1.0.5 in /usr/local/lib/python3.6/dist-packages (from tensorflow-gpu==1.13.1) (1.1.0)\n",
            "Requirement already satisfied: numpy>=1.13.3 in /usr/local/lib/python3.6/dist-packages (from tensorflow-gpu==1.13.1) (1.18.2)\n",
            "Requirement already satisfied: gast>=0.2.0 in /usr/local/lib/python3.6/dist-packages (from tensorflow-gpu==1.13.1) (0.3.3)\n",
            "Collecting tensorflow-estimator<1.14.0rc0,>=1.13.0\n",
            "\u001b[?25l  Downloading https://files.pythonhosted.org/packages/bb/48/13f49fc3fa0fdf916aa1419013bb8f2ad09674c275b4046d5ee669a46873/tensorflow_estimator-1.13.0-py2.py3-none-any.whl (367kB)\n",
            "\u001b[K     |████████████████████████████████| 368kB 30.5MB/s \n",
            "\u001b[?25hRequirement already satisfied: grpcio>=1.8.6 in /usr/local/lib/python3.6/dist-packages (from tensorflow-gpu==1.13.1) (1.27.2)\n",
            "Requirement already satisfied: keras-applications>=1.0.6 in /usr/local/lib/python3.6/dist-packages (from tensorflow-gpu==1.13.1) (1.0.8)\n",
            "Requirement already satisfied: six>=1.10.0 in /usr/local/lib/python3.6/dist-packages (from tensorflow-gpu==1.13.1) (1.12.0)\n",
            "Collecting tensorboard<1.14.0,>=1.13.0\n",
            "\u001b[?25l  Downloading https://files.pythonhosted.org/packages/0f/39/bdd75b08a6fba41f098b6cb091b9e8c7a80e1b4d679a581a0ccd17b10373/tensorboard-1.13.1-py3-none-any.whl (3.2MB)\n",
            "\u001b[K     |████████████████████████████████| 3.2MB 51.1MB/s \n",
            "\u001b[?25hRequirement already satisfied: protobuf>=3.6.1 in /usr/local/lib/python3.6/dist-packages (from tensorflow-gpu==1.13.1) (3.10.0)\n",
            "Requirement already satisfied: astor>=0.6.0 in /usr/local/lib/python3.6/dist-packages (from tensorflow-gpu==1.13.1) (0.8.1)\n",
            "Collecting mock>=2.0.0\n",
            "  Downloading https://files.pythonhosted.org/packages/cd/74/d72daf8dff5b6566db857cfd088907bb0355f5dd2914c4b3ef065c790735/mock-4.0.2-py3-none-any.whl\n",
            "Requirement already satisfied: h5py in /usr/local/lib/python3.6/dist-packages (from keras-applications>=1.0.6->tensorflow-gpu==1.13.1) (2.10.0)\n",
            "Requirement already satisfied: markdown>=2.6.8 in /usr/local/lib/python3.6/dist-packages (from tensorboard<1.14.0,>=1.13.0->tensorflow-gpu==1.13.1) (3.2.1)\n",
            "Requirement already satisfied: werkzeug>=0.11.15 in /usr/local/lib/python3.6/dist-packages (from tensorboard<1.14.0,>=1.13.0->tensorflow-gpu==1.13.1) (1.0.1)\n",
            "Requirement already satisfied: setuptools in /usr/local/lib/python3.6/dist-packages (from protobuf>=3.6.1->tensorflow-gpu==1.13.1) (46.1.3)\n",
            "\u001b[31mERROR: tensorflow 1.15.2 has requirement gast==0.2.2, but you'll have gast 0.3.3 which is incompatible.\u001b[0m\n",
            "\u001b[31mERROR: tensorflow 1.15.2 has requirement tensorboard<1.16.0,>=1.15.0, but you'll have tensorboard 1.13.1 which is incompatible.\u001b[0m\n",
            "\u001b[31mERROR: tensorflow 1.15.2 has requirement tensorflow-estimator==1.15.1, but you'll have tensorflow-estimator 1.13.0 which is incompatible.\u001b[0m\n",
            "Installing collected packages: mock, tensorflow-estimator, tensorboard, tensorflow-gpu\n",
            "  Found existing installation: tensorflow-estimator 1.15.1\n",
            "    Uninstalling tensorflow-estimator-1.15.1:\n",
            "      Successfully uninstalled tensorflow-estimator-1.15.1\n",
            "  Found existing installation: tensorboard 1.15.0\n",
            "    Uninstalling tensorboard-1.15.0:\n",
            "      Successfully uninstalled tensorboard-1.15.0\n",
            "Successfully installed mock-4.0.2 tensorboard-2.2.0 tensorflow-estimator-2.2.0rc0 tensorflow-gpu-1.13.1\n"
          ],
          "name": "stdout"
        }
      ]
    },
    {
      "cell_type": "code",
      "metadata": {
        "id": "L-dI7KqyJmKO",
        "colab": {
          "base_uri": "https://localhost:8080/",
          "height": 52
        },
        "outputId": "76dfe7f9-d5af-4e13-e3c2-ee19000809b6"
      },
      "source": [
        "!pip install opencv-contrib-python"
      ],
      "execution_count": null,
      "outputs": [
        {
          "output_type": "stream",
          "text": [
            "Requirement already satisfied: opencv-contrib-python in /usr/local/lib/python3.6/dist-packages (4.1.2.30)\n",
            "Requirement already satisfied: numpy>=1.11.3 in /usr/local/lib/python3.6/dist-packages (from opencv-contrib-python) (1.18.2)\n"
          ],
          "name": "stdout"
        }
      ]
    },
    {
      "cell_type": "code",
      "metadata": {
        "id": "zCzxzCw3Jmdp",
        "colab": {
          "base_uri": "https://localhost:8080/",
          "height": 156
        },
        "outputId": "ef4aecef-c22e-4d3a-bc91-5920d0e189f1"
      },
      "source": [
        "!pip install keras"
      ],
      "execution_count": null,
      "outputs": [
        {
          "output_type": "stream",
          "text": [
            "Requirement already satisfied: keras in /usr/local/lib/python3.6/dist-packages (2.2.5)\n",
            "Requirement already satisfied: six>=1.9.0 in /usr/local/lib/python3.6/dist-packages (from keras) (1.12.0)\n",
            "Requirement already satisfied: h5py in /usr/local/lib/python3.6/dist-packages (from keras) (2.10.0)\n",
            "Requirement already satisfied: scipy>=0.14 in /usr/local/lib/python3.6/dist-packages (from keras) (1.4.1)\n",
            "Requirement already satisfied: keras-preprocessing>=1.1.0 in /usr/local/lib/python3.6/dist-packages (from keras) (1.1.0)\n",
            "Requirement already satisfied: numpy>=1.9.1 in /usr/local/lib/python3.6/dist-packages (from keras) (1.18.2)\n",
            "Requirement already satisfied: pyyaml in /usr/local/lib/python3.6/dist-packages (from keras) (3.13)\n",
            "Requirement already satisfied: keras-applications>=1.0.8 in /usr/local/lib/python3.6/dist-packages (from keras) (1.0.8)\n"
          ],
          "name": "stdout"
        }
      ]
    },
    {
      "cell_type": "code",
      "metadata": {
        "id": "AkoVPMfO-_gb",
        "colab": {
          "base_uri": "https://localhost:8080/",
          "height": 297
        },
        "outputId": "0c251e7b-6343-48a5-f46e-d599debc01a9"
      },
      "source": [
        "!pip3 install imageai --upgrade"
      ],
      "execution_count": null,
      "outputs": [
        {
          "output_type": "stream",
          "text": [
            "Collecting imageai\n",
            "\u001b[?25l  Downloading https://files.pythonhosted.org/packages/09/99/4023e191a343fb23f01ae02ac57a5ca58037c310e8d8c62f87638a3bafc7/imageai-2.1.5-py3-none-any.whl (180kB)\n",
            "\r\u001b[K     |█▉                              | 10kB 17.2MB/s eta 0:00:01\r\u001b[K     |███▋                            | 20kB 3.0MB/s eta 0:00:01\r\u001b[K     |█████▍                          | 30kB 4.4MB/s eta 0:00:01\r\u001b[K     |███████▎                        | 40kB 2.9MB/s eta 0:00:01\r\u001b[K     |█████████                       | 51kB 3.5MB/s eta 0:00:01\r\u001b[K     |██████████▉                     | 61kB 4.2MB/s eta 0:00:01\r\u001b[K     |████████████▊                   | 71kB 4.8MB/s eta 0:00:01\r\u001b[K     |██████████████▌                 | 81kB 3.7MB/s eta 0:00:01\r\u001b[K     |████████████████▎               | 92kB 4.1MB/s eta 0:00:01\r\u001b[K     |██████████████████▏             | 102kB 4.6MB/s eta 0:00:01\r\u001b[K     |████████████████████            | 112kB 4.6MB/s eta 0:00:01\r\u001b[K     |█████████████████████▊          | 122kB 4.6MB/s eta 0:00:01\r\u001b[K     |███████████████████████▋        | 133kB 4.6MB/s eta 0:00:01\r\u001b[K     |█████████████████████████▍      | 143kB 4.6MB/s eta 0:00:01\r\u001b[K     |███████████████████████████▏    | 153kB 4.6MB/s eta 0:00:01\r\u001b[K     |█████████████████████████████   | 163kB 4.6MB/s eta 0:00:01\r\u001b[K     |██████████████████████████████▉ | 174kB 4.6MB/s eta 0:00:01\r\u001b[K     |████████████████████████████████| 184kB 4.6MB/s \n",
            "\u001b[?25hRequirement already satisfied, skipping upgrade: numpy in /usr/local/lib/python3.6/dist-packages (from imageai) (1.18.2)\n",
            "Requirement already satisfied, skipping upgrade: scipy in /usr/local/lib/python3.6/dist-packages (from imageai) (1.4.1)\n",
            "Requirement already satisfied, skipping upgrade: pillow in /usr/local/lib/python3.6/dist-packages (from imageai) (7.0.0)\n",
            "Requirement already satisfied, skipping upgrade: h5py in /usr/local/lib/python3.6/dist-packages (from imageai) (2.10.0)\n",
            "Requirement already satisfied, skipping upgrade: matplotlib in /usr/local/lib/python3.6/dist-packages (from imageai) (3.2.1)\n",
            "Requirement already satisfied, skipping upgrade: six in /usr/local/lib/python3.6/dist-packages (from h5py->imageai) (1.12.0)\n",
            "Requirement already satisfied, skipping upgrade: cycler>=0.10 in /usr/local/lib/python3.6/dist-packages (from matplotlib->imageai) (0.10.0)\n",
            "Requirement already satisfied, skipping upgrade: pyparsing!=2.0.4,!=2.1.2,!=2.1.6,>=2.0.1 in /usr/local/lib/python3.6/dist-packages (from matplotlib->imageai) (2.4.6)\n",
            "Requirement already satisfied, skipping upgrade: kiwisolver>=1.0.1 in /usr/local/lib/python3.6/dist-packages (from matplotlib->imageai) (1.2.0)\n",
            "Requirement already satisfied, skipping upgrade: python-dateutil>=2.1 in /usr/local/lib/python3.6/dist-packages (from matplotlib->imageai) (2.8.1)\n",
            "Installing collected packages: imageai\n",
            "Successfully installed imageai-2.1.5\n"
          ],
          "name": "stdout"
        }
      ]
    },
    {
      "cell_type": "code",
      "metadata": {
        "id": "ANnodspN0iRj",
        "colab": {
          "base_uri": "https://localhost:8080/",
          "height": 35
        },
        "outputId": "751a967a-d925-4f30-8b97-8e4c22fbc9c3"
      },
      "source": [
        "# import Library ImageAI\n",
        "from imageai.Detection.Custom import CustomObjectDetection\n",
        " \n",
        "# memanggil fungsi CustomObjectDetection()\n",
        "deteksi= CustomObjectDetection()\n",
        "# mengkonfigurasi model berdasarka  YOLOv3\n",
        "deteksi.setModelTypeAsYOLOv3()\n",
        "# lokasi file deteksi model\n",
        "deteksi.setModelPath(\"/content/drive/My Drive/jessi/models/detection_model-ex-004--loss-0006.019.h5\") \n",
        "# lokasi json deteksi model\n",
        "deteksi.setJsonPath(\"/content/drive/My Drive/jessi/json/detection_config.json\")\n",
        "# menyiapkan deteksi model\n",
        "deteksi.loadModel()\n",
        "# mendeteksi gambar\n",
        "hasil= deteksi.detectObjectsFromImage(input_image=\"/content/drive/My Drive/jessi1.jpg\", output_image_path=\"/content/drive/My Drive/jessi1.jpg\")\n",
        "\t# print hasil \n",
        "for i in hasil:\n",
        "  print(i[\"name\"], \" : \", i[\"percentage_probability\"], \" : \", i[\"box_points\"])\n",
        "\t \n"
      ],
      "execution_count": null,
      "outputs": [
        {
          "output_type": "stream",
          "text": [
            "jessi  :  71.02761268615723  :  [162, 129, 288, 323]\n"
          ],
          "name": "stdout"
        }
      ]
    },
    {
      "cell_type": "code",
      "metadata": {
        "id": "OBCsiIAF29rU",
        "colab": {
          "base_uri": "https://localhost:8080/",
          "height": 52
        },
        "outputId": "7c984432-7234-44d9-93fb-add6b3ea32a8"
      },
      "source": [
        "# import Library ImageAI\n",
        "from imageai.Detection import ObjectDetection\n",
        "from imageai.Detection.Custom import CustomObjectDetection\n",
        "# Library Python agar dapat mengakses lokasi file\n",
        "import os\n",
        "\n",
        "deteksi= CustomObjectDetection()\n",
        "deteksi.setModelTypeAsYOLOv3()\n",
        "deteksi.setModelPath(\"/content/drive/My Drive/jessi/models/detection_model-ex-004--loss-0006.019.h5\") \n",
        "deteksi.setJsonPath(\"/content/drive/My Drive/jessi/json/detection_config.json\")\n",
        "deteksi.loadModel()\n",
        "hasil = deteksi.detectObjectsFromImage(input_image=\"/content/drive/My Drive/customjessi6.jpg\", output_image_path=\"/content/drive/My Drive/customjessi6.jpg\")\n",
        "for i in hasil:\n",
        "    print(i[\"name\"], \" : \", i[\"percentage_probability\"], \" : \", i[\"box_points\"])\n",
        " \n",
        " \n",
        "lokasi = os.getcwd()\n",
        " \n",
        "deteksi1= ObjectDetection()\n",
        "deteksi1.setModelTypeAsRetinaNet()\n",
        "deteksi1.setModelPath( os.path.join(lokasi, \"/content/drive/My Drive/resnet50_coco_best_v2.0.1.h5\"))\n",
        "deteksi1.loadModel()\n",
        "hasil1= deteksi1.detectObjectsFromImage(input_image=os.path.join(lokasi , \"/content/drive/My Drive/customjessi6.jpg\"), output_image_path=os.path.join(lokasi , \"/content/drive/My Drive/customjessi6.jpg\"))\n",
        " \n",
        "for i in hasil1:\n",
        "    print(i[\"name\"] , \" : \" , i[\"percentage_probability\"] )\n",
        "\n"
      ],
      "execution_count": null,
      "outputs": [
        {
          "output_type": "stream",
          "text": [
            "jessi  :  55.61555624008179  :  [130, 106, 250, 275]\n",
            "person  :  97.61548638343811\n"
          ],
          "name": "stdout"
        }
      ]
    }
  ]
}